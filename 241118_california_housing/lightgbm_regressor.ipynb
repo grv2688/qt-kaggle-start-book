{
 "cells": [
  {
   "cell_type": "code",
   "execution_count": 1,
   "metadata": {},
   "outputs": [],
   "source": [
    "# 関連ライブラリをインポート\n",
    "import lightgbm as lgb\n",
    "import numpy as np\n",
    "#import os\n",
    "import pandas as pd\n",
    "import random\n",
    "#import torch\n",
    "\n",
    "# scikit-learn関連をインポート\n",
    "from sklearn.datasets import fetch_california_housing\n",
    "from sklearn.model_selection import train_test_split, KFold, StratifiedKFold\n",
    "from sklearn.metrics import mean_squared_error\n",
    "\n",
    "# warningを非表示\n",
    "import warnings\n",
    "warnings.filterwarnings('ignore')"
   ]
  },
  {
   "cell_type": "code",
   "execution_count": 2,
   "metadata": {},
   "outputs": [],
   "source": [
    "SEED = 42\n",
    "\n",
    "# 参考: 乱数固定\n",
    "def seed_everything(seed=42):\n",
    "    random.seed(seed)\n",
    "    np.random.seed(seed)\n",
    "    #os.environ['PYTHONHASHSEED'] = str(seed)\n",
    "    # torch.manual_seed(seed)\n",
    "    # torch.cuda.manual_seed(seed)\n",
    "    # torch.backends.cudnn.daterministic = True\n",
    "seed_everything(SEED)"
   ]
  },
  {
   "cell_type": "markdown",
   "metadata": {},
   "source": [
    "## データ読み込み"
   ]
  },
  {
   "cell_type": "code",
   "execution_count": 3,
   "metadata": {},
   "outputs": [
    {
     "name": "stdout",
     "output_type": "stream",
     "text": [
      "(20640, 8)\n",
      "(20640,)\n"
     ]
    }
   ],
   "source": [
    "data = fetch_california_housing()\n",
    "X = pd.DataFrame(data.data, columns=data.feature_names)\n",
    "y = pd.Series(data.target)\n",
    "\n",
    "print(X.shape)\n",
    "print(y.shape)"
   ]
  },
  {
   "cell_type": "code",
   "execution_count": 4,
   "metadata": {},
   "outputs": [
    {
     "name": "stdout",
     "output_type": "stream",
     "text": [
      "(16512, 8)\n"
     ]
    },
    {
     "data": {
      "text/html": [
       "<div>\n",
       "<style scoped>\n",
       "    .dataframe tbody tr th:only-of-type {\n",
       "        vertical-align: middle;\n",
       "    }\n",
       "\n",
       "    .dataframe tbody tr th {\n",
       "        vertical-align: top;\n",
       "    }\n",
       "\n",
       "    .dataframe thead th {\n",
       "        text-align: right;\n",
       "    }\n",
       "</style>\n",
       "<table border=\"1\" class=\"dataframe\">\n",
       "  <thead>\n",
       "    <tr style=\"text-align: right;\">\n",
       "      <th></th>\n",
       "      <th>MedInc</th>\n",
       "      <th>HouseAge</th>\n",
       "      <th>AveRooms</th>\n",
       "      <th>AveBedrms</th>\n",
       "      <th>Population</th>\n",
       "      <th>AveOccup</th>\n",
       "      <th>Latitude</th>\n",
       "      <th>Longitude</th>\n",
       "    </tr>\n",
       "  </thead>\n",
       "  <tbody>\n",
       "    <tr>\n",
       "      <th>0</th>\n",
       "      <td>3.2596</td>\n",
       "      <td>33.0</td>\n",
       "      <td>5.017657</td>\n",
       "      <td>1.006421</td>\n",
       "      <td>2300.0</td>\n",
       "      <td>3.691814</td>\n",
       "      <td>32.71</td>\n",
       "      <td>-117.03</td>\n",
       "    </tr>\n",
       "    <tr>\n",
       "      <th>1</th>\n",
       "      <td>3.8125</td>\n",
       "      <td>49.0</td>\n",
       "      <td>4.473545</td>\n",
       "      <td>1.041005</td>\n",
       "      <td>1314.0</td>\n",
       "      <td>1.738095</td>\n",
       "      <td>33.77</td>\n",
       "      <td>-118.16</td>\n",
       "    </tr>\n",
       "    <tr>\n",
       "      <th>2</th>\n",
       "      <td>4.1563</td>\n",
       "      <td>4.0</td>\n",
       "      <td>5.645833</td>\n",
       "      <td>0.985119</td>\n",
       "      <td>915.0</td>\n",
       "      <td>2.723214</td>\n",
       "      <td>34.66</td>\n",
       "      <td>-120.48</td>\n",
       "    </tr>\n",
       "  </tbody>\n",
       "</table>\n",
       "</div>"
      ],
      "text/plain": [
       "   MedInc  HouseAge  AveRooms  AveBedrms  Population  AveOccup  Latitude  \\\n",
       "0  3.2596      33.0  5.017657   1.006421      2300.0  3.691814     32.71   \n",
       "1  3.8125      49.0  4.473545   1.041005      1314.0  1.738095     33.77   \n",
       "2  4.1563       4.0  5.645833   0.985119       915.0  2.723214     34.66   \n",
       "\n",
       "   Longitude  \n",
       "0    -117.03  \n",
       "1    -118.16  \n",
       "2    -120.48  "
      ]
     },
     "metadata": {},
     "output_type": "display_data"
    },
    {
     "name": "stdout",
     "output_type": "stream",
     "text": [
      "(16512,)\n"
     ]
    },
    {
     "data": {
      "text/plain": [
       "0    1.030\n",
       "1    3.821\n",
       "2    1.726\n",
       "dtype: float64"
      ]
     },
     "metadata": {},
     "output_type": "display_data"
    },
    {
     "name": "stdout",
     "output_type": "stream",
     "text": [
      "(4128, 8)\n"
     ]
    },
    {
     "data": {
      "text/html": [
       "<div>\n",
       "<style scoped>\n",
       "    .dataframe tbody tr th:only-of-type {\n",
       "        vertical-align: middle;\n",
       "    }\n",
       "\n",
       "    .dataframe tbody tr th {\n",
       "        vertical-align: top;\n",
       "    }\n",
       "\n",
       "    .dataframe thead th {\n",
       "        text-align: right;\n",
       "    }\n",
       "</style>\n",
       "<table border=\"1\" class=\"dataframe\">\n",
       "  <thead>\n",
       "    <tr style=\"text-align: right;\">\n",
       "      <th></th>\n",
       "      <th>MedInc</th>\n",
       "      <th>HouseAge</th>\n",
       "      <th>AveRooms</th>\n",
       "      <th>AveBedrms</th>\n",
       "      <th>Population</th>\n",
       "      <th>AveOccup</th>\n",
       "      <th>Latitude</th>\n",
       "      <th>Longitude</th>\n",
       "    </tr>\n",
       "  </thead>\n",
       "  <tbody>\n",
       "    <tr>\n",
       "      <th>0</th>\n",
       "      <td>1.6812</td>\n",
       "      <td>25.0</td>\n",
       "      <td>4.192201</td>\n",
       "      <td>1.022284</td>\n",
       "      <td>1392.0</td>\n",
       "      <td>3.877437</td>\n",
       "      <td>36.06</td>\n",
       "      <td>-119.01</td>\n",
       "    </tr>\n",
       "    <tr>\n",
       "      <th>1</th>\n",
       "      <td>2.5313</td>\n",
       "      <td>30.0</td>\n",
       "      <td>5.039384</td>\n",
       "      <td>1.193493</td>\n",
       "      <td>1565.0</td>\n",
       "      <td>2.679795</td>\n",
       "      <td>35.14</td>\n",
       "      <td>-119.46</td>\n",
       "    </tr>\n",
       "    <tr>\n",
       "      <th>2</th>\n",
       "      <td>3.4801</td>\n",
       "      <td>52.0</td>\n",
       "      <td>3.977155</td>\n",
       "      <td>1.185877</td>\n",
       "      <td>1310.0</td>\n",
       "      <td>1.360332</td>\n",
       "      <td>37.80</td>\n",
       "      <td>-122.44</td>\n",
       "    </tr>\n",
       "  </tbody>\n",
       "</table>\n",
       "</div>"
      ],
      "text/plain": [
       "   MedInc  HouseAge  AveRooms  AveBedrms  Population  AveOccup  Latitude  \\\n",
       "0  1.6812      25.0  4.192201   1.022284      1392.0  3.877437     36.06   \n",
       "1  2.5313      30.0  5.039384   1.193493      1565.0  2.679795     35.14   \n",
       "2  3.4801      52.0  3.977155   1.185877      1310.0  1.360332     37.80   \n",
       "\n",
       "   Longitude  \n",
       "0    -119.01  \n",
       "1    -119.46  \n",
       "2    -122.44  "
      ]
     },
     "metadata": {},
     "output_type": "display_data"
    },
    {
     "name": "stdout",
     "output_type": "stream",
     "text": [
      "(4128,)\n"
     ]
    },
    {
     "data": {
      "text/plain": [
       "0    0.47700\n",
       "1    0.45800\n",
       "2    5.00001\n",
       "dtype: float64"
      ]
     },
     "metadata": {},
     "output_type": "display_data"
    }
   ],
   "source": [
    "X_train, X_test, y_train, y_test = train_test_split(X, y, test_size=0.2, random_state=SEED)\n",
    "\n",
    "X_train.reset_index(drop=True, inplace=True)\n",
    "y_train.reset_index(drop=True, inplace=True)\n",
    "X_test.reset_index(drop=True, inplace=True)\n",
    "y_test.reset_index(drop=True, inplace=True)\n",
    "\n",
    "print(X_train.shape) \n",
    "display(X_train.head(3))\n",
    "print(y_train.shape) \n",
    "display(y_train.head(3))\n",
    "print(X_test.shape) \n",
    "display(X_test.head(3))\n",
    "print(y_test.shape) \n",
    "display(y_test.head(3))"
   ]
  },
  {
   "cell_type": "markdown",
   "metadata": {},
   "source": [
    "## 交差検証準備"
   ]
  },
  {
   "cell_type": "code",
   "execution_count": 5,
   "metadata": {},
   "outputs": [],
   "source": [
    "kf = KFold(n_splits=3, shuffle=True, random_state=SEED)"
   ]
  },
  {
   "cell_type": "markdown",
   "metadata": {},
   "source": [
    "## メインループ"
   ]
  },
  {
   "cell_type": "code",
   "execution_count": 12,
   "metadata": {},
   "outputs": [],
   "source": [
    "y_preds = []\n",
    "models = []\n",
    "y_pred_oof = np.zeros((len(X_train),)) # 各分割でのoof(訓練に使用されなかったfold)に対する予測値\n",
    "rmse_scores = []\n",
    "categorical_features = [] # カテゴリ変数\n",
    "\n",
    "# ハイパーパラメータ\n",
    "params = {\n",
    "    'objective': 'regression',\n",
    "    'metric': 'rmse',\n",
    "    'boosting_type': 'gbdt',\n",
    "    'learning_rate': 0.1,\n",
    "    'num_leaves': 31,\n",
    "    'verbosity': -1,\n",
    "    'seed': SEED\n",
    "}"
   ]
  },
  {
   "cell_type": "code",
   "execution_count": 13,
   "metadata": {},
   "outputs": [
    {
     "name": "stdout",
     "output_type": "stream",
     "text": [
      "-------------------\n",
      "Fold: 0\n",
      "Training until validation scores don't improve for 10 rounds\n",
      "[10]\ttraining's rmse: 0.690893\tvalid_1's rmse: 0.716723\n",
      "[20]\ttraining's rmse: 0.550405\tvalid_1's rmse: 0.585947\n",
      "[30]\ttraining's rmse: 0.484253\tvalid_1's rmse: 0.52938\n",
      "[40]\ttraining's rmse: 0.452608\tvalid_1's rmse: 0.505973\n",
      "[50]\ttraining's rmse: 0.432136\tvalid_1's rmse: 0.495781\n",
      "[60]\ttraining's rmse: 0.417186\tvalid_1's rmse: 0.489883\n",
      "[70]\ttraining's rmse: 0.404101\tvalid_1's rmse: 0.485307\n",
      "[80]\ttraining's rmse: 0.393119\tvalid_1's rmse: 0.481115\n",
      "[90]\ttraining's rmse: 0.383744\tvalid_1's rmse: 0.47901\n",
      "[100]\ttraining's rmse: 0.375538\tvalid_1's rmse: 0.476297\n",
      "Did not meet early stopping. Best iteration is:\n",
      "[100]\ttraining's rmse: 0.375538\tvalid_1's rmse: 0.476297\n",
      "-------------------\n",
      "Fold: 1\n",
      "Training until validation scores don't improve for 10 rounds\n",
      "[10]\ttraining's rmse: 0.700676\tvalid_1's rmse: 0.71159\n",
      "[20]\ttraining's rmse: 0.556384\tvalid_1's rmse: 0.57818\n",
      "[30]\ttraining's rmse: 0.491276\tvalid_1's rmse: 0.521501\n",
      "[40]\ttraining's rmse: 0.46142\tvalid_1's rmse: 0.499744\n",
      "[50]\ttraining's rmse: 0.442371\tvalid_1's rmse: 0.488352\n",
      "[60]\ttraining's rmse: 0.426569\tvalid_1's rmse: 0.481271\n",
      "[70]\ttraining's rmse: 0.413473\tvalid_1's rmse: 0.475852\n",
      "[80]\ttraining's rmse: 0.402449\tvalid_1's rmse: 0.471911\n",
      "[90]\ttraining's rmse: 0.392708\tvalid_1's rmse: 0.469279\n",
      "[100]\ttraining's rmse: 0.384243\tvalid_1's rmse: 0.467302\n",
      "Did not meet early stopping. Best iteration is:\n",
      "[100]\ttraining's rmse: 0.384243\tvalid_1's rmse: 0.467302\n",
      "-------------------\n",
      "Fold: 2\n",
      "Training until validation scores don't improve for 10 rounds\n",
      "[10]\ttraining's rmse: 0.696555\tvalid_1's rmse: 0.70825\n",
      "[20]\ttraining's rmse: 0.554145\tvalid_1's rmse: 0.585875\n",
      "[30]\ttraining's rmse: 0.485997\tvalid_1's rmse: 0.530405\n",
      "[40]\ttraining's rmse: 0.454799\tvalid_1's rmse: 0.509066\n",
      "[50]\ttraining's rmse: 0.435327\tvalid_1's rmse: 0.499794\n",
      "[60]\ttraining's rmse: 0.420127\tvalid_1's rmse: 0.492963\n",
      "[70]\ttraining's rmse: 0.407145\tvalid_1's rmse: 0.487699\n",
      "[80]\ttraining's rmse: 0.396319\tvalid_1's rmse: 0.483502\n",
      "[90]\ttraining's rmse: 0.386473\tvalid_1's rmse: 0.481215\n",
      "[100]\ttraining's rmse: 0.377081\tvalid_1's rmse: 0.478314\n",
      "Did not meet early stopping. Best iteration is:\n",
      "[100]\ttraining's rmse: 0.377081\tvalid_1's rmse: 0.478314\n"
     ]
    }
   ],
   "source": [
    "# メインループ\n",
    "for fold_id, (train_index, valid_index) in enumerate(kf.split(X_train, y_train)):\n",
    "    # 表示\n",
    "    print('-------------------')\n",
    "    print(f'Fold: {fold_id}')\n",
    "\n",
    "    # 訓練データと検証データに分割\n",
    "    X_tr = X_train.loc[train_index, :]\n",
    "    X_val = X_train.loc[valid_index, :]\n",
    "    y_tr = y_train[train_index]\n",
    "    y_val = y_train[valid_index]\n",
    "    \n",
    "    # データセットを生成\n",
    "    lgb_train = lgb.Dataset(X_tr, y_tr, categorical_feature=categorical_features)\n",
    "    lgb_eval = lgb.Dataset(X_val, y_val, reference=lgb_train, categorical_feature=categorical_features)\n",
    "\n",
    "    # 訓練\n",
    "    model = lgb.train(params, lgb_train, \n",
    "                        valid_sets=[lgb_train, lgb_eval],\n",
    "                        #num_boost_round=1000,\n",
    "                        callbacks=[lgb.early_stopping(stopping_rounds=10,\n",
    "                                                      verbose=True),\n",
    "                                    lgb.log_evaluation(period=10)])\n",
    "    \n",
    "    # 予測\n",
    "    y_pred_val = model.predict(X_val, num_iteration=model.best_iteration)\n",
    "    y_pred_oof[valid_index] = y_pred_val\n",
    "    y_pred = model.predict(X_test, num_iteration=model.best_iteration)\n",
    "\n",
    "    # RMSEを計算\n",
    "    rmse = np.sqrt(mean_squared_error(y_val, y_pred_val))\n",
    "\n",
    "    # 結果を保存\n",
    "    y_preds.append(y_pred)\n",
    "    models.append(model)\n",
    "    rmse_scores.append(rmse)\n"
   ]
  },
  {
   "cell_type": "markdown",
   "metadata": {},
   "source": [
    "## 評価"
   ]
  },
  {
   "cell_type": "code",
   "execution_count": 10,
   "metadata": {},
   "outputs": [
    {
     "name": "stdout",
     "output_type": "stream",
     "text": [
      "[1.33857965 3.44364903 2.34178004 0.93449189 1.41572654 3.14414378\n",
      " 1.54324824 4.68059735 1.9535667  2.90658437]\n"
     ]
    }
   ],
   "source": [
    "print(y_pred_oof[:10])"
   ]
  },
  {
   "cell_type": "code",
   "execution_count": 14,
   "metadata": {},
   "outputs": [
    {
     "data": {
      "text/plain": [
       "[0.4762966660167601, 0.46730236799673963, 0.4783137514325842]"
      ]
     },
     "execution_count": 14,
     "metadata": {},
     "output_type": "execute_result"
    }
   ],
   "source": [
    "rmse_scores"
   ]
  },
  {
   "cell_type": "code",
   "execution_count": 15,
   "metadata": {},
   "outputs": [
    {
     "name": "stdout",
     "output_type": "stream",
     "text": [
      "=== CV score ===\n",
      "0.47397092848202793\n"
     ]
    }
   ],
   "source": [
    "cv_score = sum(rmse_scores) / len(rmse_scores)\n",
    "print('=== CV score ===')\n",
    "print(cv_score)"
   ]
  },
  {
   "cell_type": "markdown",
   "metadata": {},
   "source": [
    "## テスト"
   ]
  },
  {
   "cell_type": "code",
   "execution_count": 19,
   "metadata": {},
   "outputs": [
    {
     "data": {
      "text/plain": [
       "[array([0.53551911, 0.94839274, 5.12449949, ..., 5.05884548, 0.74876133,\n",
       "        1.68696057]),\n",
       " array([0.57497302, 0.79578338, 5.03911956, ..., 4.93604868, 0.6230162 ,\n",
       "        1.69786877]),\n",
       " array([0.58674261, 0.90330143, 4.73546777, ..., 4.90567227, 0.65916445,\n",
       "        1.77708261])]"
      ]
     },
     "execution_count": 19,
     "metadata": {},
     "output_type": "execute_result"
    }
   ],
   "source": [
    "y_preds"
   ]
  },
  {
   "cell_type": "code",
   "execution_count": 20,
   "metadata": {},
   "outputs": [
    {
     "data": {
      "text/plain": [
       "array([0.56574492, 0.88249252, 4.96636227, ..., 4.96685548, 0.67698066,\n",
       "       1.72063732])"
      ]
     },
     "execution_count": 20,
     "metadata": {},
     "output_type": "execute_result"
    }
   ],
   "source": [
    "y_sub = sum(y_preds) / len(y_preds)\n",
    "y_sub"
   ]
  },
  {
   "cell_type": "code",
   "execution_count": 21,
   "metadata": {},
   "outputs": [
    {
     "name": "stdout",
     "output_type": "stream",
     "text": [
      "=== RMSE for test data ===\n",
      "0.4622482797858079\n"
     ]
    }
   ],
   "source": [
    "rmse_sub = np.sqrt(mean_squared_error(y_test, y_sub))\n",
    "print('=== RMSE for test data ===')\n",
    "print(rmse_sub)"
   ]
  },
  {
   "cell_type": "code",
   "execution_count": null,
   "metadata": {},
   "outputs": [],
   "source": []
  }
 ],
 "metadata": {
  "kernelspec": {
   "display_name": "torch_py38",
   "language": "python",
   "name": "python3"
  },
  "language_info": {
   "codemirror_mode": {
    "name": "ipython",
    "version": 3
   },
   "file_extension": ".py",
   "mimetype": "text/x-python",
   "name": "python",
   "nbconvert_exporter": "python",
   "pygments_lexer": "ipython3",
   "version": "3.8.10"
  }
 },
 "nbformat": 4,
 "nbformat_minor": 2
}
